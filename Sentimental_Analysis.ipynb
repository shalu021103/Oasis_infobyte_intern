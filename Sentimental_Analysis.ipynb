{
  "nbformat": 4,
  "nbformat_minor": 0,
  "metadata": {
    "colab": {
      "provenance": []
    },
    "kernelspec": {
      "name": "python3",
      "display_name": "Python 3"
    },
    "language_info": {
      "name": "python"
    }
  },
  "cells": [
    {
      "cell_type": "code",
      "source": [
        "import pandas as pd\n",
        "import re\n",
        "import nltk\n",
        "\n",
        "# Load the dataset\n",
        "df = pd.read_csv('/content/apps.csv')\n",
        "\n",
        "# Display the first few rows of the dataset\n",
        "print(df.head())\n",
        "\n",
        "# Drop rows with missing reviews\n",
        "df.dropna(subset=['Reviews'], inplace=True)\n",
        "\n",
        "# Define a function to clean text\n",
        "def clean_text(text):\n",
        "    text = str(text).lower()  # Convert to lowercase\n",
        "    text = re.sub(r'\\d+', '', text)  # Remove digits\n",
        "    text = re.sub(r'\\W', ' ', text)  # Remove special characters\n",
        "    text = re.sub(r'\\s+', ' ', text).strip()  # Remove extra spaces\n",
        "    stop_words = set(stopwords.words('english'))\n",
        "    text = ' '.join([word for word in text.split() if word not in stop_words])  # Remove stopwords\n",
        "    return text\n",
        "\n",
        "# Clean the 'Reviews' column\n",
        "df['cleaned_reviews'] = df['Reviews'].apply(clean_text)\n",
        "\n",
        "# Display the cleaned reviews\n",
        "print(df[['Reviews', 'cleaned_reviews']].head())\n"
      ],
      "metadata": {
        "colab": {
          "base_uri": "https://localhost:8080/"
        },
        "id": "ZcVzZtLYXHvA",
        "outputId": "7d1b274e-44c3-46cf-ba91-20f47f6670c8"
      },
      "execution_count": 13,
      "outputs": [
        {
          "output_type": "stream",
          "name": "stdout",
          "text": [
            "   Unnamed: 0                                                App  \\\n",
            "0           0     Photo Editor & Candy Camera & Grid & ScrapBook   \n",
            "1           1                                Coloring book moana   \n",
            "2           2  U Launcher Lite – FREE Live Cool Themes, Hide ...   \n",
            "3           3                              Sketch - Draw & Paint   \n",
            "4           4              Pixel Draw - Number Art Coloring Book   \n",
            "\n",
            "         Category  Rating  Reviews  Size     Installs  Type Price  \\\n",
            "0  ART_AND_DESIGN     4.1      159   19M      10,000+  Free     0   \n",
            "1  ART_AND_DESIGN     3.9      967   14M     500,000+  Free     0   \n",
            "2  ART_AND_DESIGN     4.7    87510  8.7M   5,000,000+  Free     0   \n",
            "3  ART_AND_DESIGN     4.5   215644   25M  50,000,000+  Free     0   \n",
            "4  ART_AND_DESIGN     4.3      967  2.8M     100,000+  Free     0   \n",
            "\n",
            "  Content Rating                     Genres      Last Updated  \\\n",
            "0       Everyone               Art & Design   January 7, 2018   \n",
            "1       Everyone  Art & Design;Pretend Play  January 15, 2018   \n",
            "2       Everyone               Art & Design    August 1, 2018   \n",
            "3           Teen               Art & Design      June 8, 2018   \n",
            "4       Everyone    Art & Design;Creativity     June 20, 2018   \n",
            "\n",
            "          Current Ver   Android Ver  \n",
            "0               1.0.0  4.0.3 and up  \n",
            "1               2.0.0  4.0.3 and up  \n",
            "2               1.2.4  4.0.3 and up  \n",
            "3  Varies with device    4.2 and up  \n",
            "4                 1.1    4.4 and up  \n",
            "   Reviews cleaned_reviews\n",
            "0      159                \n",
            "1      967                \n",
            "2    87510                \n",
            "3   215644                \n",
            "4      967                \n"
          ]
        }
      ]
    },
    {
      "cell_type": "code",
      "source": [
        "# Function to label sentiments based on ratings\n",
        "def sentiment_label(rating):\n",
        "    if rating >= 4:\n",
        "        return 'positive'\n",
        "    elif rating == 3:\n",
        "        return 'neutral'\n",
        "    else:\n",
        "        return 'negative'\n",
        "\n",
        "# Apply the function to create a new sentiment column\n",
        "df['sentiment'] = df['Rating'].round(1).apply(sentiment_label)\n",
        "\n",
        "# Display sentiment labels\n",
        "print(df[['Rating', 'sentiment']].head())\n"
      ],
      "metadata": {
        "colab": {
          "base_uri": "https://localhost:8080/"
        },
        "id": "qUwkv-xFXSXM",
        "outputId": "78c3612f-2a7e-48e9-eeb2-584a21188609"
      },
      "execution_count": 22,
      "outputs": [
        {
          "output_type": "stream",
          "name": "stdout",
          "text": [
            "   Rating sentiment\n",
            "0     4.1  positive\n",
            "1     3.9  negative\n",
            "2     4.7  positive\n",
            "3     4.5  positive\n",
            "4     4.3  positive\n"
          ]
        }
      ]
    },
    {
      "cell_type": "code",
      "source": [
        "import numpy as np\n",
        "import gensim.downloader as api\n",
        "from sklearn.linear_model import LogisticRegression\n",
        "from sklearn.model_selection import train_test_split\n",
        "from sklearn.metrics import accuracy_score, classification_report\n",
        "\n",
        "# Load the GloVe embeddings (use a smaller model to avoid long download times)\n",
        "glove_model = api.load(\"glove-wiki-gigaword-50\")  # 50-dimensional embeddings\n",
        "\n",
        "# Function to get the vector for a given review\n",
        "def get_review_vector(review):\n",
        "    words = review.split()\n",
        "    # Only calculate the mean if there are words in the review that exist in GloVe\n",
        "    valid_words = [glove_model[word] for word in words if word in glove_model]\n",
        "    if len(valid_words) > 0:\n",
        "        return np.mean(valid_words, axis=0)\n",
        "    else:\n",
        "        return np.zeros(50)  # Return a zero vector if no valid words are found\n",
        "\n",
        "# Apply to the cleaned reviews\n",
        "X = np.array([get_review_vector(review) for review in df['cleaned_reviews']])\n",
        "\n",
        "# Get the labels (target variable)\n",
        "y = df['sentiment']\n",
        "\n",
        "# Split data into training and testing sets\n",
        "X_train, X_test, y_train, y_test = train_test_split(X, y, test_size=0.2, random_state=42)\n",
        "\n",
        "# Initialize the Logistic Regression model\n",
        "log_reg_model = LogisticRegression(max_iter=1000)\n",
        "\n",
        "# Train the model\n",
        "log_reg_model.fit(X_train, y_train)\n",
        "\n",
        "# Make predictions on the test set\n",
        "y_pred = log_reg_model.predict(X_test)\n",
        "\n",
        "# Calculate accuracy and print classification report\n",
        "accuracy = accuracy_score(y_test, y_pred)\n",
        "print(f'Accuracy: {accuracy:.2f}')\n",
        "print(classification_report(y_test, y_pred))\n"
      ],
      "metadata": {
        "colab": {
          "base_uri": "https://localhost:8080/"
        },
        "id": "Vp9t35HqXYmf",
        "outputId": "9c8a4c7d-d853-46f8-92c9-f15027984b88"
      },
      "execution_count": 23,
      "outputs": [
        {
          "output_type": "stream",
          "name": "stdout",
          "text": [
            "Accuracy: 0.64\n",
            "              precision    recall  f1-score   support\n",
            "\n",
            "    negative       0.00      0.00      0.00       684\n",
            "     neutral       0.00      0.00      0.00        14\n",
            "    positive       0.64      1.00      0.78      1234\n",
            "\n",
            "    accuracy                           0.64      1932\n",
            "   macro avg       0.21      0.33      0.26      1932\n",
            "weighted avg       0.41      0.64      0.50      1932\n",
            "\n"
          ]
        },
        {
          "output_type": "stream",
          "name": "stderr",
          "text": [
            "/usr/local/lib/python3.10/dist-packages/sklearn/metrics/_classification.py:1471: UndefinedMetricWarning: Precision and F-score are ill-defined and being set to 0.0 in labels with no predicted samples. Use `zero_division` parameter to control this behavior.\n",
            "  _warn_prf(average, modifier, msg_start, len(result))\n",
            "/usr/local/lib/python3.10/dist-packages/sklearn/metrics/_classification.py:1471: UndefinedMetricWarning: Precision and F-score are ill-defined and being set to 0.0 in labels with no predicted samples. Use `zero_division` parameter to control this behavior.\n",
            "  _warn_prf(average, modifier, msg_start, len(result))\n",
            "/usr/local/lib/python3.10/dist-packages/sklearn/metrics/_classification.py:1471: UndefinedMetricWarning: Precision and F-score are ill-defined and being set to 0.0 in labels with no predicted samples. Use `zero_division` parameter to control this behavior.\n",
            "  _warn_prf(average, modifier, msg_start, len(result))\n"
          ]
        }
      ]
    },
    {
      "cell_type": "code",
      "source": [
        "import matplotlib.pyplot as plt\n",
        "\n",
        "# Plot the distribution of sentiments\n",
        "df['sentiment'].value_counts().plot(kind='bar', color=['green', 'blue', 'red'])\n",
        "plt.title('Sentiment Distribution')\n",
        "plt.xlabel('Sentiment')\n",
        "plt.ylabel('Frequency')\n",
        "plt.show()\n"
      ],
      "metadata": {
        "colab": {
          "base_uri": "https://localhost:8080/",
          "height": 519
        },
        "id": "6UE9UfwDBDZS",
        "outputId": "3433f918-9cb8-408d-b72e-11a2e3e11ce7"
      },
      "execution_count": 24,
      "outputs": [
        {
          "output_type": "display_data",
          "data": {
            "text/plain": [
              "<Figure size 640x480 with 1 Axes>"
            ],
            "image/png": "[encoded data removed]"
          },
          "metadata": {}
        }
      ]
    }
  ]
}